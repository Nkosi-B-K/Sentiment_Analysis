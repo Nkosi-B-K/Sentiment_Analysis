{
 "cells": [
  {
   "cell_type": "code",
   "execution_count": 1,
   "id": "46db9c0b-51f9-4b50-9276-885f68abd9e4",
   "metadata": {},
   "outputs": [],
   "source": [
    "import pandas as pd\n",
    "import numpy as np\n",
    "import re\n",
    "from vaderSentiment.vaderSentiment import SentimentIntensityAnalyzer\n",
    "import transformers\n",
    "from transformers import pipeline"
   ]
  },
  {
   "cell_type": "code",
   "execution_count": 2,
   "id": "e4bf4729-a4ee-4e8f-bf28-427bbeadc128",
   "metadata": {},
   "outputs": [],
   "source": [
    "import vaderSentiment"
   ]
  },
  {
   "cell_type": "code",
   "execution_count": 3,
   "id": "8a5732e8-17f1-4f8a-b7a9-26f644be8357",
   "metadata": {},
   "outputs": [],
   "source": [
    "data = pd.read_csv('book_reviews_sample.csv')"
   ]
  },
  {
   "cell_type": "code",
   "execution_count": 4,
   "id": "c8018201-4c44-4a05-b629-3cab1c9ee50e",
   "metadata": {},
   "outputs": [
    {
     "data": {
      "text/html": [
       "<div>\n",
       "<style scoped>\n",
       "    .dataframe tbody tr th:only-of-type {\n",
       "        vertical-align: middle;\n",
       "    }\n",
       "\n",
       "    .dataframe tbody tr th {\n",
       "        vertical-align: top;\n",
       "    }\n",
       "\n",
       "    .dataframe thead th {\n",
       "        text-align: right;\n",
       "    }\n",
       "</style>\n",
       "<table border=\"1\" class=\"dataframe\">\n",
       "  <thead>\n",
       "    <tr style=\"text-align: right;\">\n",
       "      <th></th>\n",
       "      <th>index</th>\n",
       "      <th>reviewText</th>\n",
       "      <th>rating</th>\n",
       "    </tr>\n",
       "  </thead>\n",
       "  <tbody>\n",
       "    <tr>\n",
       "      <th>0</th>\n",
       "      <td>11494</td>\n",
       "      <td>Clean and funny. A bit busy with all the diffe...</td>\n",
       "      <td>3.0</td>\n",
       "    </tr>\n",
       "    <tr>\n",
       "      <th>1</th>\n",
       "      <td>984</td>\n",
       "      <td>Alex a sexy hot cop and the PhD candidate. Wha...</td>\n",
       "      <td>4.0</td>\n",
       "    </tr>\n",
       "    <tr>\n",
       "      <th>2</th>\n",
       "      <td>1463</td>\n",
       "      <td>Good thing that this is a free story. I read i...</td>\n",
       "      <td>1.0</td>\n",
       "    </tr>\n",
       "    <tr>\n",
       "      <th>3</th>\n",
       "      <td>10342,\"Action, action, action! Equipment keeps...</td>\n",
       "      <td>NaN</td>\n",
       "      <td>NaN</td>\n",
       "    </tr>\n",
       "    <tr>\n",
       "      <th>4</th>\n",
       "      <td>5256</td>\n",
       "      <td>this was hands down the worse book i have ever...</td>\n",
       "      <td>1.0</td>\n",
       "    </tr>\n",
       "  </tbody>\n",
       "</table>\n",
       "</div>"
      ],
      "text/plain": [
       "                                               index  \\\n",
       "0                                              11494   \n",
       "1                                                984   \n",
       "2                                               1463   \n",
       "3  10342,\"Action, action, action! Equipment keeps...   \n",
       "4                                               5256   \n",
       "\n",
       "                                          reviewText  rating  \n",
       "0  Clean and funny. A bit busy with all the diffe...     3.0  \n",
       "1  Alex a sexy hot cop and the PhD candidate. Wha...     4.0  \n",
       "2  Good thing that this is a free story. I read i...     1.0  \n",
       "3                                                NaN     NaN  \n",
       "4  this was hands down the worse book i have ever...     1.0  "
      ]
     },
     "execution_count": 4,
     "metadata": {},
     "output_type": "execute_result"
    }
   ],
   "source": [
    "data.head()"
   ]
  },
  {
   "cell_type": "code",
   "execution_count": 5,
   "id": "2bf33b18-4447-4337-8e58-5594d5efeec0",
   "metadata": {},
   "outputs": [
    {
     "name": "stdout",
     "output_type": "stream",
     "text": [
      "<class 'pandas.core.frame.DataFrame'>\n",
      "RangeIndex: 100 entries, 0 to 99\n",
      "Data columns (total 3 columns):\n",
      " #   Column      Non-Null Count  Dtype  \n",
      "---  ------      --------------  -----  \n",
      " 0   index       100 non-null    object \n",
      " 1   reviewText  81 non-null     object \n",
      " 2   rating      81 non-null     float64\n",
      "dtypes: float64(1), object(2)\n",
      "memory usage: 2.5+ KB\n"
     ]
    }
   ],
   "source": [
    "data.info()"
   ]
  },
  {
   "cell_type": "code",
   "execution_count": 6,
   "id": "1cd79226-f7e5-4564-9e3e-5c25743d8a6d",
   "metadata": {},
   "outputs": [
    {
     "data": {
      "text/plain": [
       "'Clean and funny. A bit busy with all the different plots going on. But overall a good read. Bye now.'"
      ]
     },
     "execution_count": 6,
     "metadata": {},
     "output_type": "execute_result"
    }
   ],
   "source": [
    "data['reviewText'][0]"
   ]
  },
  {
   "cell_type": "code",
   "execution_count": 7,
   "id": "8f1d6630-6111-4444-9c4f-532a3d05a929",
   "metadata": {},
   "outputs": [],
   "source": [
    "data['reviewText_clean'] = data.apply(\n",
    "    lambda x: re.sub(r\"([^\\w\\s])\", \" \", x['reviewText'].lower()) if isinstance(x['reviewText'], str) else x['reviewText'], axis=1)"
   ]
  },
  {
   "cell_type": "code",
   "execution_count": 8,
   "id": "6b84f302-c19c-4548-bacc-94d24d946cd6",
   "metadata": {},
   "outputs": [
    {
     "data": {
      "text/html": [
       "<div>\n",
       "<style scoped>\n",
       "    .dataframe tbody tr th:only-of-type {\n",
       "        vertical-align: middle;\n",
       "    }\n",
       "\n",
       "    .dataframe tbody tr th {\n",
       "        vertical-align: top;\n",
       "    }\n",
       "\n",
       "    .dataframe thead th {\n",
       "        text-align: right;\n",
       "    }\n",
       "</style>\n",
       "<table border=\"1\" class=\"dataframe\">\n",
       "  <thead>\n",
       "    <tr style=\"text-align: right;\">\n",
       "      <th></th>\n",
       "      <th>index</th>\n",
       "      <th>reviewText</th>\n",
       "      <th>rating</th>\n",
       "      <th>reviewText_clean</th>\n",
       "    </tr>\n",
       "  </thead>\n",
       "  <tbody>\n",
       "    <tr>\n",
       "      <th>0</th>\n",
       "      <td>11494</td>\n",
       "      <td>Clean and funny. A bit busy with all the diffe...</td>\n",
       "      <td>3.0</td>\n",
       "      <td>clean and funny  a bit busy with all the diffe...</td>\n",
       "    </tr>\n",
       "    <tr>\n",
       "      <th>1</th>\n",
       "      <td>984</td>\n",
       "      <td>Alex a sexy hot cop and the PhD candidate. Wha...</td>\n",
       "      <td>4.0</td>\n",
       "      <td>alex a sexy hot cop and the phd candidate  wha...</td>\n",
       "    </tr>\n",
       "    <tr>\n",
       "      <th>2</th>\n",
       "      <td>1463</td>\n",
       "      <td>Good thing that this is a free story. I read i...</td>\n",
       "      <td>1.0</td>\n",
       "      <td>good thing that this is a free story  i read i...</td>\n",
       "    </tr>\n",
       "    <tr>\n",
       "      <th>3</th>\n",
       "      <td>10342,\"Action, action, action! Equipment keeps...</td>\n",
       "      <td>NaN</td>\n",
       "      <td>NaN</td>\n",
       "      <td>NaN</td>\n",
       "    </tr>\n",
       "    <tr>\n",
       "      <th>4</th>\n",
       "      <td>5256</td>\n",
       "      <td>this was hands down the worse book i have ever...</td>\n",
       "      <td>1.0</td>\n",
       "      <td>this was hands down the worse book i have ever...</td>\n",
       "    </tr>\n",
       "  </tbody>\n",
       "</table>\n",
       "</div>"
      ],
      "text/plain": [
       "                                               index  \\\n",
       "0                                              11494   \n",
       "1                                                984   \n",
       "2                                               1463   \n",
       "3  10342,\"Action, action, action! Equipment keeps...   \n",
       "4                                               5256   \n",
       "\n",
       "                                          reviewText  rating  \\\n",
       "0  Clean and funny. A bit busy with all the diffe...     3.0   \n",
       "1  Alex a sexy hot cop and the PhD candidate. Wha...     4.0   \n",
       "2  Good thing that this is a free story. I read i...     1.0   \n",
       "3                                                NaN     NaN   \n",
       "4  this was hands down the worse book i have ever...     1.0   \n",
       "\n",
       "                                    reviewText_clean  \n",
       "0  clean and funny  a bit busy with all the diffe...  \n",
       "1  alex a sexy hot cop and the phd candidate  wha...  \n",
       "2  good thing that this is a free story  i read i...  \n",
       "3                                                NaN  \n",
       "4  this was hands down the worse book i have ever...  "
      ]
     },
     "execution_count": 8,
     "metadata": {},
     "output_type": "execute_result"
    }
   ],
   "source": [
    "data.head()"
   ]
  },
  {
   "cell_type": "code",
   "execution_count": 9,
   "id": "b6aab3a5-4aea-4536-b99d-464233641563",
   "metadata": {},
   "outputs": [],
   "source": [
    "vader_sentiment = SentimentIntensityAnalyzer()"
   ]
  },
  {
   "cell_type": "code",
   "execution_count": 10,
   "id": "96833624-c8e9-40fd-8474-8f70b71ec5f6",
   "metadata": {},
   "outputs": [],
   "source": [
    "data['vader_sentiment_score'] = data['reviewText_clean'].apply(\n",
    "    lambda review: vader_sentiment.polarity_scores(review)['compound'] if isinstance(review, str) else None\n",
    ")"
   ]
  },
  {
   "cell_type": "code",
   "execution_count": 11,
   "id": "d3d99ab8-2ea8-481d-9100-6aa1c5fefcc2",
   "metadata": {},
   "outputs": [
    {
     "data": {
      "text/html": [
       "<div>\n",
       "<style scoped>\n",
       "    .dataframe tbody tr th:only-of-type {\n",
       "        vertical-align: middle;\n",
       "    }\n",
       "\n",
       "    .dataframe tbody tr th {\n",
       "        vertical-align: top;\n",
       "    }\n",
       "\n",
       "    .dataframe thead th {\n",
       "        text-align: right;\n",
       "    }\n",
       "</style>\n",
       "<table border=\"1\" class=\"dataframe\">\n",
       "  <thead>\n",
       "    <tr style=\"text-align: right;\">\n",
       "      <th></th>\n",
       "      <th>index</th>\n",
       "      <th>reviewText</th>\n",
       "      <th>rating</th>\n",
       "      <th>reviewText_clean</th>\n",
       "      <th>vader_sentiment_score</th>\n",
       "    </tr>\n",
       "  </thead>\n",
       "  <tbody>\n",
       "    <tr>\n",
       "      <th>0</th>\n",
       "      <td>11494</td>\n",
       "      <td>Clean and funny. A bit busy with all the diffe...</td>\n",
       "      <td>3.0</td>\n",
       "      <td>clean and funny  a bit busy with all the diffe...</td>\n",
       "      <td>0.7684</td>\n",
       "    </tr>\n",
       "    <tr>\n",
       "      <th>1</th>\n",
       "      <td>984</td>\n",
       "      <td>Alex a sexy hot cop and the PhD candidate. Wha...</td>\n",
       "      <td>4.0</td>\n",
       "      <td>alex a sexy hot cop and the phd candidate  wha...</td>\n",
       "      <td>0.9325</td>\n",
       "    </tr>\n",
       "    <tr>\n",
       "      <th>2</th>\n",
       "      <td>1463</td>\n",
       "      <td>Good thing that this is a free story. I read i...</td>\n",
       "      <td>1.0</td>\n",
       "      <td>good thing that this is a free story  i read i...</td>\n",
       "      <td>0.6740</td>\n",
       "    </tr>\n",
       "    <tr>\n",
       "      <th>3</th>\n",
       "      <td>10342,\"Action, action, action! Equipment keeps...</td>\n",
       "      <td>NaN</td>\n",
       "      <td>NaN</td>\n",
       "      <td>NaN</td>\n",
       "      <td>NaN</td>\n",
       "    </tr>\n",
       "    <tr>\n",
       "      <th>4</th>\n",
       "      <td>5256</td>\n",
       "      <td>this was hands down the worse book i have ever...</td>\n",
       "      <td>1.0</td>\n",
       "      <td>this was hands down the worse book i have ever...</td>\n",
       "      <td>-0.4767</td>\n",
       "    </tr>\n",
       "  </tbody>\n",
       "</table>\n",
       "</div>"
      ],
      "text/plain": [
       "                                               index  \\\n",
       "0                                              11494   \n",
       "1                                                984   \n",
       "2                                               1463   \n",
       "3  10342,\"Action, action, action! Equipment keeps...   \n",
       "4                                               5256   \n",
       "\n",
       "                                          reviewText  rating  \\\n",
       "0  Clean and funny. A bit busy with all the diffe...     3.0   \n",
       "1  Alex a sexy hot cop and the PhD candidate. Wha...     4.0   \n",
       "2  Good thing that this is a free story. I read i...     1.0   \n",
       "3                                                NaN     NaN   \n",
       "4  this was hands down the worse book i have ever...     1.0   \n",
       "\n",
       "                                    reviewText_clean  vader_sentiment_score  \n",
       "0  clean and funny  a bit busy with all the diffe...                 0.7684  \n",
       "1  alex a sexy hot cop and the phd candidate  wha...                 0.9325  \n",
       "2  good thing that this is a free story  i read i...                 0.6740  \n",
       "3                                                NaN                    NaN  \n",
       "4  this was hands down the worse book i have ever...                -0.4767  "
      ]
     },
     "execution_count": 11,
     "metadata": {},
     "output_type": "execute_result"
    }
   ],
   "source": [
    "data.head()"
   ]
  },
  {
   "cell_type": "code",
   "execution_count": 12,
   "id": "d10f793a-f8b9-463b-b430-a2e5148774bc",
   "metadata": {},
   "outputs": [],
   "source": [
    "bins = [-1, -0.1, 0.1, 1]\n",
    "names = ['megative', 'neutral', 'positive']\n",
    "\n",
    "data['vader_sentiment_label'] = pd.cut(data['vader_sentiment_score'], bins, labels=names)"
   ]
  },
  {
   "cell_type": "code",
   "execution_count": 13,
   "id": "254ff936-a61a-4c44-9d15-8a2f34db03f9",
   "metadata": {},
   "outputs": [
    {
     "data": {
      "text/plain": [
       "<Axes: xlabel='vader_sentiment_label'>"
      ]
     },
     "execution_count": 13,
     "metadata": {},
     "output_type": "execute_result"
    },
    {
     "data": {
      "image/png": "[encoded data removed]",
      "text/plain": [
       "<Figure size 640x480 with 1 Axes>"
      ]
     },
     "metadata": {},
     "output_type": "display_data"
    }
   ],
   "source": [
    "data['vader_sentiment_label'].value_counts().plot.bar()"
   ]
  },
  {
   "cell_type": "code",
   "execution_count": 29,
   "id": "7773c305-4a22-4298-bce9-544f7fb192ba",
   "metadata": {},
   "outputs": [],
   "source": [
    "transformer_pipeline = pipeline('sentiment-analysis', model='distilbert-base-uncased-finetuned-sst-2-english')\n"
   ]
  },
  {
   "cell_type": "code",
   "execution_count": 35,
   "id": "7dc224ae-46c8-405c-b69c-3a3aad06abf3",
   "metadata": {},
   "outputs": [],
   "source": [
    "transformer_labels = []\n",
    "\n",
    "for review in data['reviewText_clean'].values:\n",
    "    if isinstance(review, str): \n",
    "        sentiment_list = transformer_pipeline(review)\n",
    "        sentiment_label = [sent['label'] for sent in sentiment_list]\n",
    "        transformer_labels.append(sentiment_label)\n",
    "    else:\n",
    "        transformer_labels.append(None)"
   ]
  },
  {
   "cell_type": "code",
   "execution_count": 39,
   "id": "81a7ad33-2896-4dca-8770-f5d8c67354e7",
   "metadata": {},
   "outputs": [],
   "source": [
    "data['transformer_sentiment_label'] = transformer_labels"
   ]
  },
  {
   "cell_type": "code",
   "execution_count": 41,
   "id": "464f6e65-77da-4cde-9859-c44ca18269cc",
   "metadata": {},
   "outputs": [
    {
     "data": {
      "text/plain": [
       "<Axes: xlabel='transformer_sentiment_label'>"
      ]
     },
     "execution_count": 41,
     "metadata": {},
     "output_type": "execute_result"
    },
    {
     "data": {
      "image/png": "[encoded data removed]",
      "text/plain": [
       "<Figure size 640x480 with 1 Axes>"
      ]
     },
     "metadata": {},
     "output_type": "display_data"
    }
   ],
   "source": [
    "data['transformer_sentiment_label'].value_counts().plot.bar()"
   ]
  },
  {
   "cell_type": "code",
   "execution_count": null,
   "id": "720cadf6-39d7-497d-93bd-6280b66c377b",
   "metadata": {},
   "outputs": [],
   "source": []
  }
 ],
 "metadata": {
  "kernelspec": {
   "display_name": "Python 3 (ipykernel)",
   "language": "python",
   "name": "python3"
  },
  "language_info": {
   "codemirror_mode": {
    "name": "ipython",
    "version": 3
   },
   "file_extension": ".py",
   "mimetype": "text/x-python",
   "name": "python",
   "nbconvert_exporter": "python",
   "pygments_lexer": "ipython3",
   "version": "3.12.3"
  }
 },
 "nbformat": 4,
 "nbformat_minor": 5
}
